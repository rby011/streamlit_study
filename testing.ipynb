{
 "cells": [
  {
   "cell_type": "code",
   "execution_count": 34,
   "metadata": {},
   "outputs": [],
   "source": [
    "#\n",
    "# fake test result gen\n",
    "#\n",
    "\n",
    "import pandas as pd\n",
    "import numpy as np\n",
    "import os\n",
    "from typing import List\n",
    "from faker import Faker \n",
    "from sklearn.preprocessing import MinMaxScaler\n",
    "\n",
    "'''\n",
    "generate dummy test result file to independent implemnetation of analyzer and ui\n",
    "'''\n",
    "def _generate_dummy_result(suite_file_path:str, result_file_root:str, result_file_name:str, n_result:int) -> None: \n",
    "    df_org = pd.read_csv(suite_file_path, sep='\\t')\n",
    "\n",
    "    # 'x' values\n",
    "    # age : 10s = 0 , 20s = 1, 30s = 2, 40s = 3\n",
    "    df_org.age.unique()     # nan, 'twenties', 'teens', 'thirties', 'fourties'\n",
    "    df_org['n_age'] = df_org['age'].replace({'twenties':1, 'teens':0, 'thirties':2, 'fourties':3})\n",
    "\n",
    "    # gender : male = 0 , female = 1\n",
    "    df_org.gender.unique()  # nan, 'male', 'female'\n",
    "    df_org['n_gender'] = df_org['gender'].replace({'male':0 , 'female':1})\n",
    "\n",
    "    # sentence style : spoken = 0, written = 1 \n",
    "    df_org.accents.unique() # nan, '사투리가 조금 있는', '서울', '경기도', 'reading book', '일반적인 성인 남성 ', 'Seoul'\n",
    "    df_org['n_style'] = df_org['accents'].replace({'사투리가 조금 있는':1, '서울':1, '경기도':1, 'reading book':0, '일반적인 성인 남성 ':1, 'Seoul':1})\n",
    "    df_org['style'] = df_org['n_style'].apply(lambda x: 'written' if x == 0 else 'spoken')\n",
    "\n",
    "    # setence length\n",
    "    df_org['sentence_len'] = df_org['sentence'].apply(lambda x: len(x))\n",
    "    df_org['n_sentence_len'] = df_org['sentence_len']\n",
    "\n",
    "    # min-max scaling for \"^n_*\" columns\n",
    "    cols_to_scale = df_org.filter(regex='^n_').columns\n",
    "    df_org[cols_to_scale] = MinMaxScaler().fit_transform(df_org[cols_to_scale])\n",
    "\n",
    "    # path \n",
    "    df_org['path'] = df_org['path'].apply(lambda x: os.path.join('testsuites/cv-corpus-15.0-2023-09-08/ko/clips', x))\n",
    "\n",
    "    # translation\n",
    "    df_org['translation'] = df_org['sentence'].apply(lambda x: '[Translated]' + x)\n",
    "    \n",
    "    # transcript\n",
    "    df_org['transcript'] = df_org['sentence'].apply(lambda x: '[Transcripted]' + x)\n",
    "    \n",
    "    # ref\n",
    "    df_org['ref'] = df_org['sentence'].apply(lambda x: '[Ref]' + x)\n",
    "    \n",
    "    # 'y' values to generate depdending on 'x'values\n",
    "    df_org['n_wer'] = None\n",
    "    df_org['n_bleu'] = None\n",
    "    df_org['n_i_bleu'] = None\n",
    "\n",
    "    for i in range(n_result):\n",
    "        df = df_org.copy()\n",
    "        # generate random betas from normal distribution\n",
    "        def generate_betas(locs:List[float] = [2.5, 1.5, 1.0, 0.7]) -> List[float]:\n",
    "            beta = [\n",
    "                np.random.normal(),                 # interception\n",
    "                np.random.normal(2.5, 0.1),         # setence length\n",
    "                np.random.normal(1.5, 0.06),        # setence style\n",
    "                np.random.normal(1.0, 0.05),        # gender\n",
    "                np.random.normal(0.7, 0.1),         # age\n",
    "            ]\n",
    "            return beta\n",
    "\n",
    "        # wer = b0 + setence_length * b1 + style * b2 + gender * b3 + age * b4 +  error\n",
    "        beta = generate_betas()\n",
    "        df['n_wer'] = beta[0] + beta[1] * df['n_sentence_len'] \\\n",
    "                + beta[2] * df['n_style'] + beta[3] * df['n_gender'] + beta[4] * df['n_age']\\\n",
    "                + np.random.normal(10, 5)\n",
    "        df['n_wer'] = MinMaxScaler().fit_transform(df[['n_wer']])\n",
    "        df.loc[df['n_wer'].isna(),'n_wer'] = np.random.normal(0 , 1)\n",
    "        df = df.rename(columns={'n_wer':'wer'})\n",
    "\n",
    "        # bleu = b0 + setence_length * b1 + style * b2\n",
    "        beta = generate_betas([3.0, 2.5, 1.5, 1.2])\n",
    "        df['n_bleu'] = beta[0] + beta[1] * df['n_sentence_len'] + beta[2] * df['n_style'] + np.random.normal(10,5)\n",
    "        df['n_bleu'] = MinMaxScaler().fit_transform(df[['n_bleu']])\n",
    "        df.loc[df['n_bleu'].isna(),'n_bleu'] = np.random.normal(0 , 1)\n",
    "        df = df.rename(columns={'n_bleu':'bleu'})\n",
    "\n",
    "        # i_bleu = b0 + setence_length * b1 + style * b2\n",
    "        beta = generate_betas([1.0, 1.5, 0.5, 0.2])\n",
    "        df['n_i_bleu'] = beta[0] + beta[1] * df['n_sentence_len'] + beta[2] * df['n_style'] + np.random.normal(10,5)\n",
    "        df['n_i_bleu'] = MinMaxScaler().fit_transform(df[['n_i_bleu']])\n",
    "        df.loc[df['n_i_bleu'].isna(),'n_i_bleu'] = np.random.normal(0 , 1)\n",
    "        df = df.rename(columns={'n_i_bleu':'i_bleu'})\n",
    "\n",
    "        df = df.drop(columns = df.filter(regex = '^n_').columns)\n",
    "        \n",
    "        # force fomatting specific for the 'amt test' project's test results\n",
    "        df = pd.concat([df] * 3)\n",
    "\n",
    "        # save test result\n",
    "        result_file_path = os.path.join(result_file_root, result_file_name)\n",
    "        df.to_csv(f'{result_file_path} - {i}.csv', index=False)\n",
    "        \n",
    "_generate_dummy_result('testsuites/testsuite.tsv','testresults', 'testresult', 5)\n",
    "\n",
    "\n"
   ]
  },
  {
   "cell_type": "code",
   "execution_count": 5,
   "metadata": {},
   "outputs": [
    {
     "data": {
      "text/plain": [
       "Index(['client_id', 'path', 'sentence', 'up_votes', 'down_votes', 'age',\n",
       "       'gender', 'accents', 'variant', 'locale', 'segment', 'style',\n",
       "       'sentence_len', 'translation', 'transcript', 'wer', 'bleu', 'i_bleu',\n",
       "       'ref'],\n",
       "      dtype='object')"
      ]
     },
     "execution_count": 5,
     "metadata": {},
     "output_type": "execute_result"
    }
   ],
   "source": [
    "dd = pd.read_csv('/home/chsun/streamlit_study/testresults/testresult - 0.csv')\n",
    "\n",
    "dd.columns"
   ]
  },
  {
   "cell_type": "code",
   "execution_count": 40,
   "metadata": {},
   "outputs": [
    {
     "data": {
      "text/plain": [
       "'마스크 잘 쓰고 다니고, 길 조심해서 다녀와.'"
      ]
     },
     "metadata": {},
     "output_type": "display_data"
    },
    {
     "data": {
      "text/plain": [
       "'[Transcripted]마스크 잘 쓰고 다니고, 길 조심해서 다녀와.'"
      ]
     },
     "metadata": {},
     "output_type": "display_data"
    },
    {
     "data": {
      "text/plain": [
       "['[Ref]마스크 잘 쓰고 다니고, 길 조심해서 다녀와.',\n",
       " '[Ref]마스크 잘 쓰고 다니고, 길 조심해서 다녀와.',\n",
       " '[Ref]마스크 잘 쓰고 다니고, 길 조심해서 다녀와.']"
      ]
     },
     "metadata": {},
     "output_type": "display_data"
    },
    {
     "data": {
      "text/plain": [
       "'abc*fgh'"
      ]
     },
     "execution_count": 40,
     "metadata": {},
     "output_type": "execute_result"
    }
   ],
   "source": [
    "import pandas as pd\n",
    "file_path = 'testresults/testresult - 0.csv'\n",
    "\n",
    "df = pd.read_csv(file_path)\n",
    "\n",
    "gdf = df.loc[:,['sentence','ref']].copy()\n",
    "\n",
    "cdf = df[(df['bleu'] >= 0.5) & (df['bleu'] <=0.9)]\n",
    "\n",
    "\n",
    "sentences = ('[' + cdf['bleu'].round(2).astype(str) + '] ' + cdf['sentence']).drop_duplicates().to_list()\n",
    "transcript_dict = cdf[['sentence','transcript']].drop_duplicates().set_index('sentence')['transcript'].to_dict()\n",
    "ground_dict = gdf.groupby('sentence')['ref'].apply(list).to_dict()\n",
    "\n",
    "display(sentences[0][7:])\n",
    "display(transcript_dict[sentences[0][7:]])\n",
    "display(ground_dict[sentences[0][7:]])\n",
    "\n",
    "\n",
    "l = ['abc','fgh']\n",
    "\n",
    "'*'.join(l)\n",
    "# 그리고 선비의 그 고운 얼굴이 미소를 띠고 지나치는 것을 그는 확실히 보았다.\tArgue agency send sign nation. There chance gu...\n",
    "# 361\t그리고 선비의 그 고운 얼굴이 미소를 띠고 지나치는 것을 그는 확실히 보았다.\tApply quite Mr guy different on. Interesting i...\n",
    "# 362\t그리고 선비의 그 고운 얼굴이 미소를 띠고 지나치는 것을 그는 확실히 보았다.\tHerself which coach fine provide politics list...\n",
    "# 366\t나는 그 알레그로가 울리어 나오는 순간 마음은 끝까지 긴장되고 흥분되었습니다.\tTax senior camera give physical white policy. ...\n",
    "# 367\t나는 그 알레그로가 울리어 나오는 순간 마음은 끝까지 긴장되고 흥분되었습니다.\tThemselves employee season. When less hour col.."
   ]
  },
  {
   "cell_type": "code",
   "execution_count": 2,
   "metadata": {},
   "outputs": [],
   "source": [
    "#\n",
    "# pre processing for anlaysis\n",
    "# \n",
    "import pandas as pd\n",
    "\n",
    "file_path = 'testresults/testresult - 0.csv'\n",
    "\n",
    "def prepocess_for_vanlysis(file_path:str) -> pd.DataFrame:\n",
    "   \n",
    "    # read test result file, remove 'ref' and duplications\n",
    "    df = pd.read_csv(file_path)\n",
    "    df = df.drop(columns=['ref']).drop_duplicates().reset_index(drop=True)\n",
    "\n",
    "    # create 'style' var : written or spoken\n",
    "    df['accents'] = df['accents'].replace({'사투리가 조금 있는':1, '서울':1, '경기도':1, 'reading book':0, '일반적인 성인 남성 ':1, 'Seoul':1})\n",
    "    df['style'] = df['accents'].apply(lambda x: 'written' if x == 0 else 'spoken')\n",
    "\n",
    "    # create 'sentence_len'\n",
    "    df['sentence_len'] = df['sentence'].apply(lambda x: len(x))\n",
    "\n",
    "    # create 'blue_diff' = i_bleu - bleu\n",
    "    df['bleu_diff'] = df['i_bleu'] - df['bleu']\n",
    "\n",
    "    # categorize sentence length for table & create 'sentence_len_type'  \n",
    "    # - long : larger than 3rd quantile \n",
    "    # - mid  : 1st  ~ 3rd quantile\n",
    "    # -short : smaller than the 1st quantile\n",
    "    q1 = df.sentence_len.quantile(q = 0.25) \n",
    "    q3 = df.sentence_len.quantile(q = 0.75)\n",
    "    df['sentence_len_type'] = df['sentence_len'].apply(lambda x: 'long' if x > q3 else ('short' if x < q1 else 'mid'))\n",
    "\n",
    "    # one hot encoding for norminal vars for regression\n",
    "    columns=['age', 'style', 'gender']\n",
    "    for col in columns:\n",
    "        df[col+'_org'] = df[col]\n",
    "    df = pd.get_dummies(df, columns=['age', 'style', 'gender'], drop_first=False)\n",
    "    for col in columns:\n",
    "        df[col] = df[col+'_org']\n",
    "    df = df.drop(columns=[col+'_org' for col in columns])\n",
    "    \n",
    "    # return preprocessed dataframe\n",
    "    return df\n"
   ]
  },
  {
   "cell_type": "code",
   "execution_count": 47,
   "metadata": {},
   "outputs": [
    {
     "name": "stdout",
     "output_type": "stream",
     "text": [
      "             df      sum_sq   mean_sq         F    PR(>F)\n",
      "C(age)      3.0    7.992231  2.664077  9.742849  0.000003\n",
      "Residual  621.0  169.805755  0.273439       NaN       NaN\n",
      "2.7380325225585084e-06\n",
      "Shapiro-Wilk Test: statistic=0.645950198173523, p-value=5.694214021528166e-34\n",
      "Levene Test: statistic=7.1908758183482115, p-value=9.460753971572751e-05\n",
      "        age      mean       var\n",
      "0  fourties -0.444569  0.277464\n",
      "1     teens -1.083167  0.000000\n",
      "2  thirties -0.566304  0.284790\n",
      "3  twenties -0.496906  0.283446\n"
     ]
    },
    {
     "name": "stderr",
     "output_type": "stream",
     "text": [
      "/tmp/ipykernel_31304/727275343.py:39: FutureWarning: \n",
      "\n",
      "Passing `palette` without assigning `hue` is deprecated and will be removed in v0.14.0. Assign the `x` variable to `hue` and set `legend=False` for the same effect.\n",
      "\n",
      "  sns.violinplot(x=x_var, y=y_var, data=df ,\n"
     ]
    },
    {
     "data": {
      "image/png": "[encoded data removed]",
      "text/plain": [
       "<Figure size 640x480 with 1 Axes>"
      ]
     },
     "metadata": {},
     "output_type": "display_data"
    },
    {
     "name": "stdout",
     "output_type": "stream",
     "text": [
      "  quantile      mean       var       max       min\n",
      "0       Q1  0.514356  0.007382  0.612687  0.000000\n",
      "1       Q2  0.568938  0.009143  0.692428  0.205048\n",
      "2       Q3  0.608023  0.015769  0.783560  0.330355\n",
      "3       Q4  0.700570  0.033027  1.000000  0.387313\n"
     ]
    }
   ],
   "source": [
    "from scipy.stats import shapiro, levene\n",
    "import seaborn as sns\n",
    "import matplotlib.pyplot as plt\n",
    "\n",
    "file_path = 'testresults/testresult - 0.csv'\n",
    "\n",
    "df = prepocess_for_vanlysis(file_path)\n",
    "\n",
    "from statsmodels.formula.api import ols\n",
    "from statsmodels.stats.anova import anova_lm\n",
    "\n",
    "x_var = 'age'\n",
    "y_var = 'bleu_diff'\n",
    "\n",
    "# remove missing value\n",
    "df = df.dropna(subset=[x_var, y_var])\n",
    "\n",
    "# anonva\n",
    "model = ols(f'{y_var} ~ C({x_var})', data=df).fit()\n",
    "anova_table = anova_lm(model)\n",
    "print(anova_table)\n",
    "print(anova_table.iloc[0,-1])\n",
    "\n",
    "# nomality\n",
    "stat, p = shapiro(df[y_var])\n",
    "print(f'Shapiro-Wilk Test: statistic={stat}, p-value={p}')\n",
    "\n",
    "# homoscedasticity (variance)\n",
    "groups = [group[y_var].dropna() for _ , group in df.groupby('age')]\n",
    "stat, p = levene(*groups)\n",
    "print(f'Levene Test: statistic={stat}, p-value={p}')\n",
    "\n",
    "avg_df = df.groupby(x_var)[y_var].agg(['mean','var']).reset_index()\n",
    "\n",
    "print(avg_df)\n",
    "\n",
    "# viloin plot\n",
    "fig, ax = plt.subplots()\n",
    "sns.violinplot(x=x_var, y=y_var, data=df , \n",
    "               palette = sns.color_palette(\"hls\", len(df[x_var].unique())),ax=ax)\n",
    "plt.show()\n",
    "\n",
    "df.groupby('age')\n",
    "\n",
    "\n",
    "# 'setence_len'의 사분위수를 계산합니다.\n",
    "quantiles = df['sentence_len'].quantile([0.25, 0.5, 0.75])\n",
    "\n",
    "# 각 사분위수에 해당하는 'bleu' 값들을 찾습니다.\n",
    "bleu_values_q1 = df.loc[df['sentence_len'] <= quantiles[0.25], 'bleu_diff']\n",
    "bleu_values_q2 = df.loc[(df['sentence_len'] > quantiles[0.25]) & (df['sentence_len'] <= quantiles[0.5]), 'bleu_diff']\n",
    "bleu_values_q3 = df.loc[(df['sentence_len'] > quantiles[0.5]) & (df['sentence_len'] <= quantiles[0.75]), 'bleu_diff']\n",
    "bleu_values_q4 = df.loc[df['sentence_len'] > quantiles[0.75], 'bleu_diff']\n",
    "\n",
    "# 각 사분위수에 해당하는 'bleu' 값들의 평균, 분산, 최대, 최소를 계산합니다.\n",
    "summary_df = pd.DataFrame({\n",
    "    'quantile': ['Q1', 'Q2', 'Q3', 'Q4'],\n",
    "    'mean': [bleu_values_q1.mean(), bleu_values_q2.mean(), bleu_values_q3.mean(), bleu_values_q4.mean()],\n",
    "    'var': [bleu_values_q1.var(), bleu_values_q2.var(), bleu_values_q3.var(), bleu_values_q4.var()],\n",
    "    'max': [bleu_values_q1.max(), bleu_values_q2.max(), bleu_values_q3.max(), bleu_values_q4.max()],\n",
    "    'min': [bleu_values_q1.min(), bleu_values_q2.min(), bleu_values_q3.min(), bleu_values_q4.min()],\n",
    "})\n",
    "\n",
    "print(summary_df)\n",
    "\n"
   ]
  },
  {
   "cell_type": "code",
   "execution_count": 17,
   "metadata": {},
   "outputs": [
    {
     "name": "stdout",
     "output_type": "stream",
     "text": [
      "Group 1 mean difference: -0.5964074787840004\n",
      "Group 2 mean difference: -0.5464952134506752\n",
      "T-statistic: -1.2553323707707593\n",
      "P-value: 0.20976595668638334\n"
     ]
    },
    {
     "data": {
      "text/html": [
       "<div>\n",
       "<style scoped>\n",
       "    .dataframe tbody tr th:only-of-type {\n",
       "        vertical-align: middle;\n",
       "    }\n",
       "\n",
       "    .dataframe tbody tr th {\n",
       "        vertical-align: top;\n",
       "    }\n",
       "\n",
       "    .dataframe thead th {\n",
       "        text-align: right;\n",
       "    }\n",
       "</style>\n",
       "<table border=\"1\" class=\"dataframe\">\n",
       "  <thead>\n",
       "    <tr style=\"text-align: right;\">\n",
       "      <th></th>\n",
       "      <th>diff</th>\n",
       "    </tr>\n",
       "    <tr>\n",
       "      <th>style</th>\n",
       "      <th></th>\n",
       "    </tr>\n",
       "  </thead>\n",
       "  <tbody>\n",
       "    <tr>\n",
       "      <th>spoken</th>\n",
       "      <td>-0.591821</td>\n",
       "    </tr>\n",
       "    <tr>\n",
       "      <th>written</th>\n",
       "      <td>0.015250</td>\n",
       "    </tr>\n",
       "  </tbody>\n",
       "</table>\n",
       "</div>"
      ],
      "text/plain": [
       "             diff\n",
       "style            \n",
       "spoken  -0.591821\n",
       "written  0.015250"
      ]
     },
     "execution_count": 17,
     "metadata": {},
     "output_type": "execute_result"
    }
   ],
   "source": [
    "file_path = 'testresults/testresult - 0.csv'\n",
    "from scipy.stats import ttest_ind\n",
    "df = prepocess_for_vanlysis(file_path)\n",
    "\n",
    "# sentence_len의 중앙값을 기준으로 두 그룹으로 나눕니다.\n",
    "median_sentence_len = df['sentence_len'].median()\n",
    "group1 = df[df['sentence_len'] <= median_sentence_len]\n",
    "group2 = df[df['sentence_len'] > median_sentence_len]\n",
    "\n",
    "# 각 그룹에서 i_blue와 blue의 평균 차이를 계산합니다.\n",
    "mean_diff_group1 = group1['i_bleu'].mean() - group1['bleu'].mean()\n",
    "mean_diff_group2 = group2['i_bleu'].mean() - group2['bleu'].mean()\n",
    "\n",
    "# 두 그룹의 평균 차이가 통계적으로 유의미한지 확인합니다.\n",
    "t_stat, p_val = ttest_ind(group1['i_bleu'] - group1['bleu'], group2['i_bleu'] - group2['bleu'])\n",
    "\n",
    "print(f\"Group 1 mean difference: {mean_diff_group1}\")\n",
    "print(f\"Group 2 mean difference: {mean_diff_group2}\")\n",
    "print(f\"T-statistic: {t_stat}\")\n",
    "print(f\"P-value: {p_val}\")\n",
    "\n",
    "\n",
    "\n",
    "pd.DataFrame(df.groupby('style')['i_bleu'].mean() - df.groupby('style')['bleu'].mean(), columns=['diff'])\n",
    "\n",
    "\n"
   ]
  },
  {
   "cell_type": "code",
   "execution_count": null,
   "metadata": {},
   "outputs": [],
   "source": [
    "from scipy.stats import ttest_ind\n",
    "import numpy as np\n",
    "\n"
   ]
  },
  {
   "cell_type": "code",
   "execution_count": 125,
   "metadata": {},
   "outputs": [],
   "source": [
    "import math\n",
    "\n",
    "pdf = prepocess_for_vanlysis('testresults/testresult - 0.csv')\n",
    "cdf = prepocess_for_vanlysis('testresults/testresult - 1.csv')\n",
    "\n",
    "\n",
    "'''\n",
    "make a fake data frame with the below structure\n",
    "\n",
    "[colum structure]\n",
    "1st              : fcol_name with fcol_values\n",
    "2nd ~ (last - 1) : columns ← random number generated\n",
    "last             : some calculateion with the middle position columns, \n",
    "                   currently 'diff' (last - first) at the middle position column\n",
    "\n",
    ": param fcol_name   : the name of first column\n",
    ": param fcol_values : the values assigned to the first column\n",
    ": param columns     : the name of middle position columns whose values are assgined with random\n",
    ": param make_last   : if True, make a special column for a given calcuation type\n",
    ": param type_last   : currentl diff only supported\n",
    "                    : last column value - first colum value in the given columns\n",
    "'''\n",
    "def random_dataframe(fcol_name:str, fcol_values:List[str], \n",
    "                     columns:List[str], make_last:bool = False, type_last:str = '') -> pd.DataFrame:\n",
    "    \n",
    "    columns.insert(0, fcol_name)\n",
    "    if(make_last & (len(columns) > 1)):\n",
    "        columns.append(type_last)\n",
    "    \n",
    "    rdf = pd.DataFrame(columns = columns)\n",
    "        \n",
    "    for r_idx, fcol_val in enumerate(fcol_values):\n",
    "        # dictionary to fill into a raw\n",
    "        tmp = {}\n",
    "        # from the first to the last\n",
    "        for c_idx, col in enumerate(columns):\n",
    "            if c_idx == 0:\n",
    "                tmp[col] = fcol_val\n",
    "            else:\n",
    "                tmp[col] = np.random.normal(0.5, 0.3)\n",
    "        # last column\n",
    "        if(make_last & (len(columns) > 1)):\n",
    "            tmp[columns[-1]] = tmp[columns[1]] - tmp[columns[-1]] \n",
    "            \n",
    "        # fill into this raw\n",
    "        rdf.loc[r_idx] = tmp\n",
    "    \n",
    "    return rdf\n",
    "\n",
    "#\n",
    "# Language Dataframe for ASR\n",
    "#\n",
    "codes = ['KR', 'EN', 'ES', 'FR', 'DE', 'IT', 'JP', 'CN', 'RU', 'PT', \n",
    "         'AR', 'HI', 'SW', 'NL', 'SV', 'PL', 'TR', 'TH', 'HE', 'DA']\n",
    "ldf = random_dataframe(fcol_name='lang',\n",
    "                       fcol_values = codes,\n",
    "                       columns=['wer_c', 'wer_p'],\n",
    "                       make_last=True,\n",
    "                       type_last='diff')\n",
    "ldf.loc[0, ['wer_c']] = cdf['wer'].mean()\n",
    "ldf.loc[0, ['wer_p']] = pdf['wer'].mean()\n",
    "ldf.loc[0, ['diff']] = cdf['wer'].mean() - pdf['wer'].mean()\n",
    "\n",
    "\n",
    "#\n",
    "# Utterance Dataframe for ASR\n",
    "# - after dropping missing value\n",
    "#\n",
    "columns = cdf['sentence_len_type'].dropna().unique().tolist()\n",
    "udf = random_dataframe(fcol_name='lang',\n",
    "                       fcol_values = codes,\n",
    "                       columns = columns)\n",
    "for col in columns[1:]:\n",
    "    udf.loc[0, [col]] = cdf.groupby('sentence_len_type')['wer'].mean()[col]\n",
    "\n",
    "#\n",
    "# Age Dataframe for ASR\n",
    "# - after dropping missing value\n",
    "#\n",
    "columns = cdf['age'].dropna().unique().tolist()\n",
    "adf = random_dataframe(fcol_name='lang',\n",
    "                       fcol_values = codes,\n",
    "                       columns = columns)\n",
    "for col in columns[1:]:\n",
    "    adf.loc[0, [col]] = cdf.groupby('age')['wer'].mean()[col]\n",
    "\n",
    "#\n",
    "# Gender Dataframe for ASR\n",
    "# - after dropping missing value\n",
    "#\n",
    "columns = cdf['gender'].dropna().unique().tolist()\n",
    "gdf = random_dataframe(fcol_name='lang',\n",
    "                       fcol_values = codes,\n",
    "                       columns = columns)\n",
    "for col in columns[1:]:\n",
    "    gdf.loc[0, [col]] = cdf.groupby('gender')['wer'].mean()[col]\n",
    "\n",
    "#\n",
    "# Style Dataframe for ASR\n",
    "# - after dropping missing value\n",
    "#\n",
    "columns = cdf['style'].dropna().unique().tolist()\n",
    "sdf = random_dataframe(fcol_name='lang',\n",
    "                       fcol_values = codes,\n",
    "                       columns = columns)\n",
    "for col in columns[1:]:\n",
    "    sdf.loc[0, [col]] = cdf.groupby('style')['wer'].mean()[col]\n"
   ]
  },
  {
   "cell_type": "code",
   "execution_count": 144,
   "metadata": {},
   "outputs": [],
   "source": [
    "import seaborn as sns\n",
    "from statsmodels.formula.api import ols\n",
    "from scipy.stats import pearsonr, shapiro\n",
    "from statsmodels.stats.diagnostic import het_breuschpagan\n",
    "from typing import List, Tuple, Any\n",
    "\n",
    "\n",
    "# chart creation and statstic analysis for two numerical variable\n",
    "# - scatter plot :  \n",
    "# - pearson correlation , regression anlaysis \n",
    "def v_analyze_numerics(df:pd.DataFrame , x_var:str, y_var:str) -> Tuple[Any, List[str]]:\n",
    "    # strings to display\n",
    "    ret = []\n",
    "    \n",
    "    # pearson analysis\n",
    "    correlation, p_value = pearsonr(df[x_var], df[y_var])\n",
    "    ret.append(f'### pearson : coefficient ({correlation}) with p-value({p_value})')\n",
    "    ret.append(f\"    * {x_var} normality (shapiro-wilk): {shapiro(df[x_var])[1]}\")\n",
    "    ret.append(f\"    * {y_var} normality (shapiro-wilk): {shapiro(df[y_var])[1]}\")\n",
    "\n",
    "    # regression analysis\n",
    "    model = ols(f'{y_var} ~ {x_var}', data = df).fit()\n",
    "    ret.append(f'### regression : coefficient ({model.params[0]}) with p-value({model.f_pvalue})')\n",
    "    ret.append(f\"    * residual nomality (shaprio-wilk): {shapiro(model.resid)[1]}\")\n",
    "    ret.append(f\"    * residual homogeneity of variances (breusch-pagan) : {het_breuschpagan(model.resid, model.model.exog)[1]}\")\n",
    "    \n",
    "    return sns.scatterplot(x = x_var, y = y_var, data = df) , ret\n"
   ]
  },
  {
   "cell_type": "code",
   "execution_count": 184,
   "metadata": {},
   "outputs": [
    {
     "data": {
      "text/plain": [
       "'wer ~ gender_female + gender_male'"
      ]
     },
     "execution_count": 184,
     "metadata": {},
     "output_type": "execute_result"
    }
   ],
   "source": [
    "file_path = 'testresults/testresult - 1.csv'\n",
    "df = prepocess_for_vanlysis(file_path)\n",
    "df.columns\n",
    "x_var = 'gender'\n",
    "y_var = 'wer'\n",
    "\n",
    "\n",
    "df.columns\n",
    "\n",
    "f'{y_var} ~ ' + ' + '.join(df.filter(regex=f'^{x_var}_').columns)\n",
    "\n"
   ]
  },
  {
   "cell_type": "code",
   "execution_count": 199,
   "metadata": {},
   "outputs": [
    {
     "name": "stderr",
     "output_type": "stream",
     "text": [
      "/tmp/ipykernel_14361/3989998548.py:16: FutureWarning: \n",
      "\n",
      "Passing `palette` without assigning `hue` is deprecated and will be removed in v0.14.0. Assign the `x` variable to `hue` and set `legend=False` for the same effect.\n",
      "\n",
      "  sns.violinplot(x=x_var, y=y_var, data=df , palette = sns.color_palette(\"hls\", len(df[x_var].unique())))\n",
      "/tmp/ipykernel_14361/3989998548.py:16: UserWarning: The palette list has more values (3) than needed (2), which may not be intended.\n",
      "  sns.violinplot(x=x_var, y=y_var, data=df , palette = sns.color_palette(\"hls\", len(df[x_var].unique())))\n"
     ]
    },
    {
     "data": {
      "text/plain": [
       "['# anova : 0.0007237416355624133 with 0.0007237416355624133',\n",
       " '  * shaprio : ShapiroResult(statistic=0.8763274550437927, pvalue=1.776783602354218e-23)',\n",
       " '  * breusch-pagan : (222.98353412304527, 3.7996254465828485e-49, 160.73984342909566, 2.049882641679326e-58)']"
      ]
     },
     "metadata": {},
     "output_type": "display_data"
    },
    {
     "data": {
      "image/png": "[encoded data removed]",
      "text/plain": [
       "<Figure size 640x480 with 1 Axes>"
      ]
     },
     "metadata": {},
     "output_type": "display_data"
    }
   ],
   "source": [
    "#\n",
    "# 범주형 변수들에 대한 시각화 및 검정\n",
    "#\n",
    "from statsmodels.formula.api import ols\n",
    "from statsmodels.stats.anova import anova_lm\n",
    "import seaborn as sns\n",
    "\n",
    "x_var = 'gender'\n",
    "y_var = 'wer'\n",
    "df = df\n",
    "\n",
    "'''\n",
    "'''\n",
    "def v_analyze_categorics(df:pd.DataFrame , x_var:str, y_var:str) -> Tuple[Any, pd.DataFrame, List[str]]:\n",
    "    ret = []\n",
    "\n",
    "    # display statistical analysis result\n",
    "    # 1) average for each category\n",
    "    avg_df = pd.DataFrame(df.groupby(by=x_var)[y_var].mean())\n",
    "\n",
    "    # 2) analysis of variance\n",
    "    # fit regression model\n",
    "    formula = f'{y_var} ~ ' + ' + '.join(df.filter(regex=f'^{x_var}_').columns)\n",
    "    model = ols(formula, data = df).fit()\n",
    "    # one way anova and extract p-value from the result\n",
    "    p_val = anova_lm(model).iloc[0,-1]\n",
    "\n",
    "    ret.append(f'# anova : {p_val} with {p_val}')\n",
    "    ret.append(f\"  * shaprio : {shapiro(model.resid)}\")\n",
    "    ret.append(f\"  * breusch-pagan : {het_breuschpagan(model.resid, model.model.exog)}\")\n",
    "    \n",
    "    return sns.violinplot(x=x_var, y=y_var, data=df , palette = sns.color_palette(\"hls\", len(df[x_var].unique()))), avg_df, ret"
   ]
  },
  {
   "cell_type": "code",
   "execution_count": 96,
   "metadata": {},
   "outputs": [
    {
     "name": "stderr",
     "output_type": "stream",
     "text": [
      "/tmp/ipykernel_14361/3867170143.py:7: FutureWarning: \n",
      "\n",
      "Passing `palette` without assigning `hue` is deprecated and will be removed in v0.14.0. Assign the `x` variable to `hue` and set `legend=False` for the same effect.\n",
      "\n",
      "  sns.violinplot(x='style', y='wer', data=df , palette=palette)\n"
     ]
    },
    {
     "data": {
      "text/html": [
       "<div>\n",
       "<style scoped>\n",
       "    .dataframe tbody tr th:only-of-type {\n",
       "        vertical-align: middle;\n",
       "    }\n",
       "\n",
       "    .dataframe tbody tr th {\n",
       "        vertical-align: top;\n",
       "    }\n",
       "\n",
       "    .dataframe thead th {\n",
       "        text-align: right;\n",
       "    }\n",
       "</style>\n",
       "<table border=\"1\" class=\"dataframe\">\n",
       "  <thead>\n",
       "    <tr style=\"text-align: right;\">\n",
       "      <th></th>\n",
       "      <th>wer</th>\n",
       "    </tr>\n",
       "    <tr>\n",
       "      <th>style</th>\n",
       "      <th></th>\n",
       "    </tr>\n",
       "  </thead>\n",
       "  <tbody>\n",
       "    <tr>\n",
       "      <th>spoken</th>\n",
       "      <td>0.540512</td>\n",
       "    </tr>\n",
       "    <tr>\n",
       "      <th>written</th>\n",
       "      <td>0.294189</td>\n",
       "    </tr>\n",
       "  </tbody>\n",
       "</table>\n",
       "</div>"
      ],
      "text/plain": [
       "              wer\n",
       "style            \n",
       "spoken   0.540512\n",
       "written  0.294189"
      ]
     },
     "metadata": {},
     "output_type": "display_data"
    },
    {
     "data": {
      "text/plain": [
       "2.4984788464270706e-24"
      ]
     },
     "metadata": {},
     "output_type": "display_data"
    },
    {
     "data": {
      "text/plain": [
       "True"
      ]
     },
     "metadata": {},
     "output_type": "display_data"
    },
    {
     "data": {
      "image/png": "[encoded data removed]",
      "text/plain": [
       "<Figure size 640x480 with 1 Axes>"
      ]
     },
     "metadata": {},
     "output_type": "display_data"
    }
   ],
   "source": [
    "# violin plot\n",
    "import seaborn as sns\n",
    "\n",
    "# display on the chart area\n",
    "sns.set(color_codes = True)\n",
    "palette = sns.color_palette(\"hls\", len(df['style'].unique()))\n",
    "sns.violinplot(x='style', y='wer', data=df , palette=palette)\n",
    "\n",
    "# display on the expander : average difference table\n",
    "display(pd.DataFrame(df.groupby(by='style')['wer'].mean()))\n",
    "\n",
    "# display on the expander \n",
    "# - significally significant or not : p-value & TRUE or FALSE \n",
    "# - using one way anova\n",
    "from statsmodels.formula.api import ols\n",
    "from statsmodels.stats.anova import anova_lm\n",
    "model = ols('wer ~ n_style', data =df).fit()\n",
    "p_val = anova_lm(model).iloc[0,-1]\n",
    "display(p_val , p_val < 0.05)\n"
   ]
  },
  {
   "cell_type": "code",
   "execution_count": 39,
   "metadata": {},
   "outputs": [
    {
     "data": {
      "text/plain": [
       "721"
      ]
     },
     "execution_count": 39,
     "metadata": {},
     "output_type": "execute_result"
    }
   ],
   "source": [
    "import pandas as pd\n",
    "\n",
    "df = pd.read_csv('./testresults/testresult - 4.csv')\n",
    "\n",
    "df = df.drop(columns=['Unnamed: 0','ref']).drop_duplicates()\n",
    "\n",
    "len(df)\n"
   ]
  },
  {
   "cell_type": "code",
   "execution_count": 51,
   "metadata": {},
   "outputs": [
    {
     "data": {
      "text/plain": [
       "sentence_style\n",
       "spoken     698\n",
       "written     23\n",
       "Name: count, dtype: int64"
      ]
     },
     "execution_count": 51,
     "metadata": {},
     "output_type": "execute_result"
    }
   ],
   "source": [
    "# 문체\n",
    "df.accents.value_counts()\n",
    "df['sentence_style'] = df['accents'].apply(lambda x: 'written' if x == 'reading book' else 'spoken')\n",
    "df['sentence_style'].value_counts(dropna=False)"
   ]
  },
  {
   "cell_type": "code",
   "execution_count": 42,
   "metadata": {},
   "outputs": [
    {
     "data": {
      "text/plain": [
       "sentence_len_type\n",
       "middle    376\n",
       "long      177\n",
       "short     168\n",
       "Name: count, dtype: int64"
      ]
     },
     "execution_count": 42,
     "metadata": {},
     "output_type": "execute_result"
    }
   ],
   "source": [
    "# 문장길이\n",
    "# 장문 : 3사분위수 초과\n",
    "# 중문 : 1사분위수 ~ 3사 분위수\n",
    "# 단문 : 1사분위수 미만\n",
    "df['sentence_len'] = df['sentence'].str.len()\n",
    "q1 = df.sentence_len.quantile(q = 0.25) \n",
    "q3 = df.sentence_len.quantile(q = 0.75)\n",
    "df['sentence_len_type'] = df['sentence_len'].apply(lambda x: 'long' if x > q3 else ('short' if x < q1 else 'middle'))\n",
    "df.sentence_len_type.value_counts(dropna=False)"
   ]
  },
  {
   "cell_type": "code",
   "execution_count": 49,
   "metadata": {},
   "outputs": [
    {
     "data": {
      "text/plain": [
       "gender\n",
       "male       484\n",
       "female     141\n",
       "Unknown     96\n",
       "Name: count, dtype: int64"
      ]
     },
     "execution_count": 49,
     "metadata": {},
     "output_type": "execute_result"
    }
   ],
   "source": [
    "df['gender'] = df['gender'].fillna('Unknown')\n",
    "df['gender'].value_counts(dropna=False)"
   ]
  },
  {
   "cell_type": "code",
   "execution_count": 50,
   "metadata": {},
   "outputs": [
    {
     "data": {
      "text/plain": [
       "age\n",
       "20s        317\n",
       "30s        235\n",
       "Unknown     96\n",
       "40s         50\n",
       "10s         23\n",
       "Name: count, dtype: int64"
      ]
     },
     "execution_count": 50,
     "metadata": {},
     "output_type": "execute_result"
    }
   ],
   "source": [
    "df['age'].value_counts(dropna=False)\n",
    "df['age'] = df['age'].replace({'teens':'10s', 'twenties':'20s', 'thirties':'30s', 'fourties':'40s'})\n",
    "df['age'] = df['age'].fillna('Unknown')\n",
    "df['age'].value_counts(dropna=False)"
   ]
  },
  {
   "cell_type": "code",
   "execution_count": 123,
   "metadata": {},
   "outputs": [
    {
     "data": {
      "image/png": "[encoded data removed]",
      "text/plain": [
       "<Figure size 640x480 with 1 Axes>"
      ]
     },
     "metadata": {},
     "output_type": "display_data"
    }
   ],
   "source": [
    "dfa = df.groupby(['sentence_style'])[['wer']].mean().T\n",
    "dfb = df.groupby(['sentence_len_type'])[['wer']].mean().T\n",
    "dfc = df.groupby(['gender'])[['wer']].mean().T\n",
    "dfd = df.groupby(['age'])[['wer']].mean().T\n",
    "\n",
    "# dfc = pd.concat([dfa, dfb], axis=1)\n",
    "\n",
    "# dfc\n",
    "dfe = pd.concat([dfa.reset_index(drop=True), \n",
    "                 dfb.reset_index(drop=True),\n",
    "                 dfc.reset_index(drop=True),\n",
    "                 dfd.reset_index(drop=True)], axis=1).reset_index(drop=True)\n",
    "\n",
    "# dfe.index = ['한국어', '영어', '중국어']\n",
    "# dfe.loc['영어':, :] = np.nan\n",
    "\n",
    "dfe\n",
    "# dfc.columns = pd.MultiIndex.from_tuples([('style', col) if i < 2 else ('len', col) for i, col in enumerate(dfc.columns)])\n",
    "# dfc\n",
    "\n",
    "# 입력 언어 , 출력 언어를 추가해야 함\n",
    "# import seaborn as sns\n",
    "# import matplotlib.pyplot as plt\n",
    "# plt.figure(figsize=(10, 6))\n",
    "# sns.violinplot(data=df['wer'])\n",
    "\n",
    "# plt.show()\n",
    "import seaborn as sns\n",
    "import matplotlib.pyplot as plt\n",
    "\n",
    "sns.scatterplot(x='sentence_len', y='wer', data=df)\n",
    "plt.show()"
   ]
  },
  {
   "cell_type": "code",
   "execution_count": 182,
   "metadata": {},
   "outputs": [
    {
     "name": "stdout",
     "output_type": "stream",
     "text": [
      "Index(['client_id', 'path', 'sentence', 'up_votes', 'down_votes', 'accents',\n",
      "       'variant', 'locale', 'segment', 'transcript', 'sentence_len', 'wer',\n",
      "       'bleu', 'i_bleu', 'sentence_len_type', 'age_fourties', 'age_teens',\n",
      "       'age_thirties', 'age_twenties', 'style_spoken', 'style_written',\n",
      "       'gender_female', 'gender_male', 'age', 'style', 'gender'],\n",
      "      dtype='object')\n"
     ]
    },
    {
     "data": {
      "text/plain": [
       "[133        그는 담 밑에 착 붙어 섰다.\n",
       " 134    사랑은 말이지, 소유하는 게 아니야.\n",
       " 143       국가는 국가표준제도를 확립한다.\n",
       " 165            나는 아무 걱정도 없이\n",
       " 166        평안도 어느 산 깊은 금덤판.\n",
       " 174     그래봐야 아무것도 얻을 것이 없다.\n",
       " 177            슬기론 인민의 이 영광\n",
       " 188            실행할 당연한 일이건만\n",
       " 189          세 살 버릇 여든까지 간다\n",
       " 190    비 맞은 나뭇가지 새 움이 뾰죽뾰죽.\n",
       " 317        난 집에 들어가자마자 체포됐어\n",
       " 417            백두산 기상을 다 안고\n",
       " 419      이마와 뺨에 입을 맞추어 주었다.\n",
       " 422    투표 방법에 대해서 설명드리겠습니다.\n",
       " 432           달이라고는 이름 뿐이요.\n",
       " 433        그는 제게 햇빛이고 공기였어요\n",
       " 443          네 생각은 네 말이 된다.\n",
       " 460      돈 있으면 양반이지 별게 있느냐!\n",
       " 492             찬란한 문화로 자라난\n",
       " 518            옷 그렇게 벗지 말라고\n",
       " 523       병원에만 계속 있으면 병납니다.\n",
       " 528      대한 사람 대한으로 길이 보전하세\n",
       " 534      실상인즉 뻔히 섰던 것이 아니라.\n",
       " 543          그들은 나에게 힘을 준다.\n",
       " 545    그는 그와 한 학급에 있는 인호였다.\n",
       " 548        제가 지금 좀 너무 급해서요.\n",
       " 549           우리 마누라가 죽었다네.\n",
       " 560        목요일에 게임을 하시겠습니까?\n",
       " 565    여동생이 점점 어머니를 닮았나 보다.\n",
       " 572    자, 여기 어떤 상점이 있다 합시다.\n",
       " 577     스스로 묻기도 하고 한숨도 짓는다.\n",
       " 586          몸과 맘 다 바쳐 이 조선\n",
       " 592       아씨, 인력거 아니 타시랍시요?\n",
       " 594     야, 넌 말 좀 고상하게 못 하냐?\n",
       " 599       진짜 문제는 사람들의 마음이다.\n",
       " 604     공연한 소리 하지 말고 어서 가세.\n",
       " 611             아니다 결코 아니다.\n",
       " 617           이거리를 둘이서 걸어요.\n",
       " 635           그럼, 내일 오랍쇼니까?\n",
       " 643     애가 말라서 간청을 하는 것이었다.\n",
       " 702     제 그곳을 지배하는 무시무시한 정적\n",
       " 712        여기 화장실은 어디에 있나요?\n",
       " 714          이게 꿈이 아니면 좋으련만\n",
       " 718        좌우간 심상스런 사람은 아니요\n",
       " Name: sentence, dtype: object,\n",
       " 133        (Transcript)그는 담 밑에 착 붙어 섰다.\n",
       " 134    (Transcript)사랑은 말이지, 소유하는 게 아니야.\n",
       " 143       (Transcript)국가는 국가표준제도를 확립한다.\n",
       " 165            (Transcript)나는 아무 걱정도 없이\n",
       " 166        (Transcript)평안도 어느 산 깊은 금덤판.\n",
       " 174     (Transcript)그래봐야 아무것도 얻을 것이 없다.\n",
       " 177            (Transcript)슬기론 인민의 이 영광\n",
       " 188            (Transcript)실행할 당연한 일이건만\n",
       " 189          (Transcript)세 살 버릇 여든까지 간다\n",
       " 190    (Transcript)비 맞은 나뭇가지 새 움이 뾰죽뾰죽.\n",
       " 317        (Transcript)난 집에 들어가자마자 체포됐어\n",
       " 417            (Transcript)백두산 기상을 다 안고\n",
       " 419      (Transcript)이마와 뺨에 입을 맞추어 주었다.\n",
       " 422    (Transcript)투표 방법에 대해서 설명드리겠습니다.\n",
       " 432           (Transcript)달이라고는 이름 뿐이요.\n",
       " 433        (Transcript)그는 제게 햇빛이고 공기였어요\n",
       " 443          (Transcript)네 생각은 네 말이 된다.\n",
       " 460      (Transcript)돈 있으면 양반이지 별게 있느냐!\n",
       " 492             (Transcript)찬란한 문화로 자라난\n",
       " 518            (Transcript)옷 그렇게 벗지 말라고\n",
       " 523       (Transcript)병원에만 계속 있으면 병납니다.\n",
       " 528      (Transcript)대한 사람 대한으로 길이 보전하세\n",
       " 534      (Transcript)실상인즉 뻔히 섰던 것이 아니라.\n",
       " 543          (Transcript)그들은 나에게 힘을 준다.\n",
       " 545    (Transcript)그는 그와 한 학급에 있는 인호였다.\n",
       " 548        (Transcript)제가 지금 좀 너무 급해서요.\n",
       " 549           (Transcript)우리 마누라가 죽었다네.\n",
       " 560        (Transcript)목요일에 게임을 하시겠습니까?\n",
       " 565    (Transcript)여동생이 점점 어머니를 닮았나 보다.\n",
       " 572    (Transcript)자, 여기 어떤 상점이 있다 합시다.\n",
       " 577     (Transcript)스스로 묻기도 하고 한숨도 짓는다.\n",
       " 586          (Transcript)몸과 맘 다 바쳐 이 조선\n",
       " 592       (Transcript)아씨, 인력거 아니 타시랍시요?\n",
       " 594     (Transcript)야, 넌 말 좀 고상하게 못 하냐?\n",
       " 599       (Transcript)진짜 문제는 사람들의 마음이다.\n",
       " 604     (Transcript)공연한 소리 하지 말고 어서 가세.\n",
       " 611             (Transcript)아니다 결코 아니다.\n",
       " 617           (Transcript)이거리를 둘이서 걸어요.\n",
       " 635           (Transcript)그럼, 내일 오랍쇼니까?\n",
       " 643     (Transcript)애가 말라서 간청을 하는 것이었다.\n",
       " 702     (Transcript)제 그곳을 지배하는 무시무시한 정적\n",
       " 712        (Transcript)여기 화장실은 어디에 있나요?\n",
       " 714          (Transcript)이게 꿈이 아니면 좋으련만\n",
       " 718        (Transcript)좌우간 심상스런 사람은 아니요\n",
       " Name: transcript, dtype: object,\n",
       " 133    common_voice_ko_35850516.mp3\n",
       " 134    common_voice_ko_35850517.mp3\n",
       " 143    common_voice_ko_35850706.mp3\n",
       " 165    common_voice_ko_35852120.mp3\n",
       " 166    common_voice_ko_35852122.mp3\n",
       " 174    common_voice_ko_35852207.mp3\n",
       " 177    common_voice_ko_35852237.mp3\n",
       " 188    common_voice_ko_35887287.mp3\n",
       " 189    common_voice_ko_35887288.mp3\n",
       " 190    common_voice_ko_35887289.mp3\n",
       " 317    common_voice_ko_35972929.mp3\n",
       " 417    common_voice_ko_36545191.mp3\n",
       " 419    common_voice_ko_36545196.mp3\n",
       " 422    common_voice_ko_36545199.mp3\n",
       " 432    common_voice_ko_36545230.mp3\n",
       " 433    common_voice_ko_36545232.mp3\n",
       " 443    common_voice_ko_36545255.mp3\n",
       " 460    common_voice_ko_36549581.mp3\n",
       " 492    common_voice_ko_36800760.mp3\n",
       " 518    common_voice_ko_36880075.mp3\n",
       " 523    common_voice_ko_36880081.mp3\n",
       " 528    common_voice_ko_36880098.mp3\n",
       " 534    common_voice_ko_36880114.mp3\n",
       " 543    common_voice_ko_36880136.mp3\n",
       " 545    common_voice_ko_36880142.mp3\n",
       " 548    common_voice_ko_36880151.mp3\n",
       " 549    common_voice_ko_36880152.mp3\n",
       " 560    common_voice_ko_36880183.mp3\n",
       " 565    common_voice_ko_36880190.mp3\n",
       " 572    common_voice_ko_36880202.mp3\n",
       " 577    common_voice_ko_36880210.mp3\n",
       " 586    common_voice_ko_36880230.mp3\n",
       " 592    common_voice_ko_36880249.mp3\n",
       " 594    common_voice_ko_36880252.mp3\n",
       " 599    common_voice_ko_36880276.mp3\n",
       " 604    common_voice_ko_36880299.mp3\n",
       " 611    common_voice_ko_36880310.mp3\n",
       " 617    common_voice_ko_36880341.mp3\n",
       " 635    common_voice_ko_36880401.mp3\n",
       " 643    common_voice_ko_36880414.mp3\n",
       " 702    common_voice_ko_37211943.mp3\n",
       " 712    common_voice_ko_38203232.mp3\n",
       " 714    common_voice_ko_38203275.mp3\n",
       " 718    common_voice_ko_38203499.mp3\n",
       " Name: path, dtype: object]"
      ]
     },
     "execution_count": 182,
     "metadata": {},
     "output_type": "execute_result"
    }
   ],
   "source": [
    "from typing import Tuple,List\n",
    "\n",
    "cdf = prepocess_for_vanlysis('testresults/testresult - 1.csv')\n",
    "\n",
    "cdf.sentence_len.max(), cdf.sentence_len.min()\n",
    "\n",
    "# return : sentence, transcript, path\n",
    "\n",
    "print(cdf.columns)\n",
    "# sentence_len\n",
    "aspect_name = 'sentence_len'\n",
    "metric_name = 'wer'\n",
    "aspect_max = 20\n",
    "aspect_min = 10\n",
    "metric_max = 1.0\n",
    "metric_min = 0.1\n",
    "ret_columns= ['sentence','transcript', 'path']\n",
    "\n",
    "def get_testresults_by_numeric(aspect_name:str, aspect_max:float, aspect_min:float, \n",
    "                               metric_name:str, metric_max:float, metric_min:float,\n",
    "                               ret_columns:List[str]) -> List[List[str]]:\n",
    "    condition1 = (cdf[aspect_name] >= aspect_min) & (cdf[aspect_name] <= aspect_max)\n",
    "    condition2 = (cdf[metric_name] <= metric_max) & (cdf[metric_name] >= metric_min)\n",
    "    \n",
    "    ret = []\n",
    "    for i, ret_col in enumerate(ret_columns):\n",
    "        ret.append(cdf[condition1 & condition2][ret_col])\n",
    "\n",
    "    return ret\n",
    "\n",
    "get_testresults_by_numeric(aspect_name, aspect_max, aspect_min, metric_name, metric_max, metric_min, ret_columns)\n"
   ]
  },
  {
   "cell_type": "code",
   "execution_count": null,
   "metadata": {},
   "outputs": [],
   "source": [
    "\n",
    "# age\n",
    "metric_name = 'wer'\n",
    "aspect_name = 'age'\n",
    "aspect_values = ['twenties', 'thirties']\n",
    "metric_max = 1.0\n",
    "metric_min = 0.1\n",
    "\n",
    "condition1 = False\n",
    "for aval in aspect_values:\n",
    "    condition1 = condition1 | (cdf[aspect_name] == aval)\n",
    "cdf[condition1][aspect_name]\n",
    "condition2 = (cdf[metric_name] <= metric_max) & (cdf[metric_name] >= metric_min)\n",
    "cdf[condition1 & condition2].loc[:, [metric_name, aspect_name,'sentence', 'transcipt', 'path']]"
   ]
  }
 ],
 "metadata": {
  "kernelspec": {
   "display_name": "lcst",
   "language": "python",
   "name": "python3"
  },
  "language_info": {
   "codemirror_mode": {
    "name": "ipython",
    "version": 3
   },
   "file_extension": ".py",
   "mimetype": "text/x-python",
   "name": "python",
   "nbconvert_exporter": "python",
   "pygments_lexer": "ipython3",
   "version": "3.10.13"
  }
 },
 "nbformat": 4,
 "nbformat_minor": 2
}
