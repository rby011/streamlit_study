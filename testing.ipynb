{
 "cells": [
  {
   "cell_type": "code",
   "execution_count": 11,
   "metadata": {},
   "outputs": [],
   "source": [
    "# # random test result file generation\n",
    "\n",
    "# import pandas as pd\n",
    "# import numpy as np\n",
    "# from faker import Faker \n",
    "\n",
    "# df_org = pd.read_csv('./testresults/testsuite.tsv', sep='\\t')\n",
    "\n",
    "# for i in range(5):\n",
    "#     # copy from origin\n",
    "#     df = df_org.copy()\n",
    "    \n",
    "#     # test result\n",
    "#     df['wer'] = np.clip(np.random.normal(0.5, 0.1, df.shape[0]), 0, 1)\n",
    "#     df['i_bleu'] = 1 - df['wer'] + np.random.normal(0, 0.1, df.shape[0])\n",
    "#     df['i_bleu'] = np.clip(df['i_bleu'], 0, 1)\n",
    "#     df['bleu'] = np.clip(np.random.normal(0.5, 0.1, df.shape[0]), 0, 1)\n",
    "    \n",
    "#     # force fomatting\n",
    "#     df = pd.concat([df]*3)\n",
    "\n",
    "#     # fake reference text\n",
    "#     fake = Faker()\n",
    "#     df['ref'] = [fake.text() for _ in range(df.shape[0])]\n",
    "#     df = df.sort_values(by='path', ascending=1).reset_index(drop=True)\n",
    "\n",
    "#     # save test result\n",
    "#     df.to_csv(f'./testresults/testresult - {i}.csv')"
   ]
  },
  {
   "cell_type": "code",
   "execution_count": 12,
   "metadata": {},
   "outputs": [
    {
     "data": {
      "text/plain": [
       "721"
      ]
     },
     "execution_count": 12,
     "metadata": {},
     "output_type": "execute_result"
    }
   ],
   "source": [
    "import pandas as pd\n",
    "\n",
    "df = pd.read_csv('./testresults/testresult - 4.csv')\n",
    "\n",
    "df = df.drop(columns=['Unnamed: 0','ref']).drop_duplicates()\n",
    "\n",
    "len(df)\n"
   ]
  },
  {
   "cell_type": "code",
   "execution_count": 13,
   "metadata": {},
   "outputs": [
    {
     "data": {
      "text/plain": [
       "sentence_style\n",
       "spoken     698\n",
       "written     23\n",
       "Name: count, dtype: int64"
      ]
     },
     "execution_count": 13,
     "metadata": {},
     "output_type": "execute_result"
    }
   ],
   "source": [
    "# 문체\n",
    "df.accents.value_counts()\n",
    "df['sentence_style'] = df['accents'].apply(lambda x: 'written' if x == 'reading book' else 'spoken')\n",
    "df['sentence_style'].value_counts(dropna=False)"
   ]
  },
  {
   "cell_type": "code",
   "execution_count": 14,
   "metadata": {},
   "outputs": [
    {
     "data": {
      "text/plain": [
       "sentence_len_type\n",
       "middle    376\n",
       "long      177\n",
       "short     168\n",
       "Name: count, dtype: int64"
      ]
     },
     "execution_count": 14,
     "metadata": {},
     "output_type": "execute_result"
    }
   ],
   "source": [
    "# 문장길이\n",
    "# 장문 : 3사분위수 초과\n",
    "# 중문 : 1사분위수 ~ 3사 분위수\n",
    "# 단문 : 1사분위수 미만\n",
    "df['sentence_len'] = df['sentence'].str.len()\n",
    "q1 = df.sentence_len.quantile(q = 0.25) \n",
    "q3 = df.sentence_len.quantile(q = 0.75)\n",
    "df['sentence_len_type'] = df['sentence_len'].apply(lambda x: 'long' if x > q3 else ('short' if x < q1 else 'middle'))\n",
    "df.sentence_len_type.value_counts(dropna=False)"
   ]
  },
  {
   "cell_type": "code",
   "execution_count": 15,
   "metadata": {},
   "outputs": [
    {
     "data": {
      "text/plain": [
       "gender\n",
       "male       484\n",
       "female     141\n",
       "Unknown     96\n",
       "Name: count, dtype: int64"
      ]
     },
     "execution_count": 15,
     "metadata": {},
     "output_type": "execute_result"
    }
   ],
   "source": [
    "df['gender'] = df['gender'].fillna('Unknown')\n",
    "df['gender'].value_counts(dropna=False)"
   ]
  },
  {
   "cell_type": "code",
   "execution_count": 16,
   "metadata": {},
   "outputs": [
    {
     "data": {
      "text/plain": [
       "age\n",
       "20s        317\n",
       "30s        235\n",
       "Unknown     96\n",
       "40s         50\n",
       "10s         23\n",
       "Name: count, dtype: int64"
      ]
     },
     "execution_count": 16,
     "metadata": {},
     "output_type": "execute_result"
    }
   ],
   "source": [
    "df['age'].value_counts(dropna=False)\n",
    "df['age'] = df['age'].replace({'teens':'10s', 'twenties':'20s', 'thirties':'30s', 'fourties':'40s'})\n",
    "df['age'] = df['age'].fillna('Unknown')\n",
    "df['age'].value_counts(dropna=False)"
   ]
  },
  {
   "cell_type": "code",
   "execution_count": 17,
   "metadata": {},
   "outputs": [
    {
     "data": {
      "text/html": [
       "<div>\n",
       "<style scoped>\n",
       "    .dataframe tbody tr th:only-of-type {\n",
       "        vertical-align: middle;\n",
       "    }\n",
       "\n",
       "    .dataframe tbody tr th {\n",
       "        vertical-align: top;\n",
       "    }\n",
       "\n",
       "    .dataframe thead th {\n",
       "        text-align: right;\n",
       "    }\n",
       "</style>\n",
       "<table border=\"1\" class=\"dataframe\">\n",
       "  <thead>\n",
       "    <tr style=\"text-align: right;\">\n",
       "      <th></th>\n",
       "      <th>spoken</th>\n",
       "      <th>written</th>\n",
       "      <th>long</th>\n",
       "      <th>middle</th>\n",
       "      <th>short</th>\n",
       "      <th>Unknown</th>\n",
       "      <th>female</th>\n",
       "      <th>male</th>\n",
       "      <th>10s</th>\n",
       "      <th>20s</th>\n",
       "      <th>30s</th>\n",
       "      <th>40s</th>\n",
       "      <th>Unknown</th>\n",
       "    </tr>\n",
       "  </thead>\n",
       "  <tbody>\n",
       "    <tr>\n",
       "      <th>0</th>\n",
       "      <td>0.496724</td>\n",
       "      <td>0.482217</td>\n",
       "      <td>0.496577</td>\n",
       "      <td>0.492192</td>\n",
       "      <td>0.505035</td>\n",
       "      <td>0.489275</td>\n",
       "      <td>0.480146</td>\n",
       "      <td>0.502341</td>\n",
       "      <td>0.509304</td>\n",
       "      <td>0.491854</td>\n",
       "      <td>0.501663</td>\n",
       "      <td>0.506221</td>\n",
       "      <td>0.489275</td>\n",
       "    </tr>\n",
       "  </tbody>\n",
       "</table>\n",
       "</div>"
      ],
      "text/plain": [
       "     spoken   written      long    middle     short   Unknown    female  \\\n",
       "0  0.496724  0.482217  0.496577  0.492192  0.505035  0.489275  0.480146   \n",
       "\n",
       "       male       10s       20s       30s       40s   Unknown  \n",
       "0  0.502341  0.509304  0.491854  0.501663  0.506221  0.489275  "
      ]
     },
     "execution_count": 17,
     "metadata": {},
     "output_type": "execute_result"
    }
   ],
   "source": [
    "dfa = df.groupby(['sentence_style'])[['wer']].mean().T\n",
    "dfb = df.groupby(['sentence_len_type'])[['wer']].mean().T\n",
    "dfc = df.groupby(['gender'])[['wer']].mean().T\n",
    "dfd = df.groupby(['age'])[['wer']].mean().T\n",
    "\n",
    "# dfc = pd.concat([dfa, dfb], axis=1)\n",
    "\n",
    "# dfc\n",
    "dfe = pd.concat([dfa.reset_index(drop=True), \n",
    "                 dfb.reset_index(drop=True),\n",
    "                 dfc.reset_index(drop=True),\n",
    "                 dfd.reset_index(drop=True)], axis=1).reset_index(drop=True)\n",
    "\n",
    "# dfe.index = ['한국어', '영어', '중국어']\n",
    "# dfe.loc['영어':, :] = np.nan\n",
    "\n",
    "dfe\n",
    "# dfc.columns = pd.MultiIndex.from_tuples([('style', col) if i < 2 else ('len', col) for i, col in enumerate(dfc.columns)])\n",
    "# dfc\n",
    "\n",
    "# 입력 언어 , 출력 언어를 추가해야 함\n",
    "# import seaborn as sns\n",
    "# import matplotlib.pyplot as plt\n",
    "# plt.figure(figsize=(10, 6))\n",
    "# sns.violinplot(data=df['wer'])\n",
    "\n"
   ]
  }
 ],
 "metadata": {
  "kernelspec": {
   "display_name": "lcst",
   "language": "python",
   "name": "python3"
  },
  "language_info": {
   "codemirror_mode": {
    "name": "ipython",
    "version": 3
   },
   "file_extension": ".py",
   "mimetype": "text/x-python",
   "name": "python",
   "nbconvert_exporter": "python",
   "pygments_lexer": "ipython3",
   "version": "3.10.13"
  }
 },
 "nbformat": 4,
 "nbformat_minor": 2
}
